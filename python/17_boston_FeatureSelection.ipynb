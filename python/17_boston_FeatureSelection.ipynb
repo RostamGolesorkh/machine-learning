{
 "cells": [
  {
   "cell_type": "markdown",
   "metadata": {},
   "source": [
    "Selecting the right features(variables) can improve the learning process in data science by reducing the amount of noise (useless information) that can influence the learner’s estimates. Variable selection, therefore, can effectively reduce the variance of predictions. In order to involve just the useful variables in training and leave out the redundant ones, you can use these techniques:\n",
    "\n",
    "**Univariate Approach**: Select the variables most related to the target outcome.\n",
    "\n",
    "**Greedy or Backward Approach**: Keep only the variables that you can remove from the learning process without damaging its performance."
   ]
  },
  {
   "cell_type": "markdown",
   "metadata": {},
   "source": [
    "### Selecting by univariate measures"
   ]
  },
  {
   "cell_type": "markdown",
   "metadata": {},
   "source": [
    "If you decide to select a variable by its level of association with its target, the <font color='blue'> **sklearn.feature_selection.SelectPercentile** </font> provides an automatic procedure for keeping only a certain percentage of the best, associated features. The available metrics for association are\n",
    "\n",
    "**f_regression**: Used only for numeric targets and based on linear regression performance.\n",
    "\n",
    "**f_classif**: Used only for categorical targets and based on the Analysis of Variance (ANOVA) statistical test.\n",
    "\n",
    "**chi2**: Performs the chi-square statistic for categorical targets, which is less sensible to the nonlinear relationship between the predictive variable and its target."
   ]
  },
  {
   "cell_type": "markdown",
   "metadata": {},
   "source": [
    "When evaluating candidates for a classification problem, **f_classif** and **chi2** tend to provide the same set of top variables. It’s still a good practice to test the selections from both the association metrics.\n",
    "\n",
    "Apart from applying a direct selection of the top percentile associations, SelectPercentile can also rank the best variables to make it easier to decide at what percentile to exclude a feature from participating in the learning process. The <font color='blue'> **sklearn.feature_selection.SelectKBest** </font> is analogous in its functionality, but it selects the top **k** variables, where k is a number, not a percentile."
   ]
  },
  {
   "cell_type": "markdown",
   "metadata": {},
   "source": [
    "- For regression: f_regression\n",
    "- For classification: chi2 or f_classif"
   ]
  },
  {
   "cell_type": "code",
   "execution_count": 25,
   "metadata": {
    "collapsed": false
   },
   "outputs": [],
   "source": [
    "from sklearn.datasets import load_boston\n",
    "boston = load_boston()\n",
    "\n",
    "X = boston.data\n",
    "y = boston.target\n",
    "# print(boston.DESCR)"
   ]
  },
  {
   "cell_type": "code",
   "execution_count": 29,
   "metadata": {
    "collapsed": false
   },
   "outputs": [
    {
     "name": "stdout",
     "output_type": "stream",
     "text": [
      "88.1512417809 2.08355011081e-19\n",
      "75.257642299 5.71358415308e-17\n",
      "153.954883136 4.90025998175e-31\n",
      "15.9715124204 7.39062317052e-05\n",
      "112.59148028 7.06504158626e-24\n",
      "471.846739876 2.48722887101e-74\n",
      "83.4774592192 1.56998220919e-18\n",
      "33.5795703259 1.20661172734e-08\n",
      "85.9142776698 5.46593256965e-19\n",
      "141.761356577 5.63773362769e-29\n",
      "175.105542876 1.60950947847e-34\n",
      "63.0542291125 1.31811273408e-14\n",
      "601.61787111 5.08110339439e-88\n"
     ]
    }
   ],
   "source": [
    "from sklearn.feature_selection import f_regression\n",
    "\n",
    "F_score, p_value = f_regression(X, y)\n",
    "\n",
    "for i in range(len(X[0])):\n",
    "    print F_score[i], p_value[i]"
   ]
  },
  {
   "cell_type": "code",
   "execution_count": 4,
   "metadata": {
    "collapsed": false,
    "scrolled": true
   },
   "outputs": [
    {
     "data": {
      "text/plain": [
       "SelectPercentile(percentile=25,\n",
       "         score_func=<function f_regression at 0x7f812fdc0848>)"
      ]
     },
     "execution_count": 4,
     "metadata": {},
     "output_type": "execute_result"
    }
   ],
   "source": [
    "from sklearn.feature_selection import SelectPercentile\n",
    "from sklearn.feature_selection import f_regression\n",
    "\n",
    "Selector_f = SelectPercentile(f_regression, percentile=25)\n",
    "Selector_f.fit(X,y)"
   ]
  },
  {
   "cell_type": "code",
   "execution_count": 5,
   "metadata": {
    "collapsed": false
   },
   "outputs": [
    {
     "name": "stdout",
     "output_type": "stream",
     "text": [
      "F-score: 88.15\t for feature CRIM\n",
      "F-score: 75.26\t for feature ZN\n",
      "F-score: 153.95\t for feature INDUS\n",
      "F-score: 15.97\t for feature CHAS\n",
      "F-score: 112.59\t for feature NOX\n",
      "F-score: 471.85\t for feature RM\n",
      "F-score: 83.48\t for feature AGE\n",
      "F-score: 33.58\t for feature DIS\n",
      "F-score: 85.91\t for feature RAD\n",
      "F-score: 141.76\t for feature TAX\n",
      "F-score: 175.11\t for feature PTRATIO\n",
      "F-score: 63.05\t for feature B\n",
      "F-score: 601.62\t for feature LSTAT\n"
     ]
    }
   ],
   "source": [
    "for n, s in zip(boston.feature_names, Selector_f.scores_):\n",
    "    print \"F-score: %3.2f\\t for feature\" %s, n"
   ]
  },
  {
   "cell_type": "code",
   "execution_count": 6,
   "metadata": {
    "collapsed": false
   },
   "outputs": [
    {
     "name": "stdout",
     "output_type": "stream",
     "text": [
      "p-value: 0.000000000000\t for feature CRIM\n",
      "p-value: 0.000000000000\t for feature ZN\n",
      "p-value: 0.000000000000\t for feature INDUS\n",
      "p-value: 0.000073906232\t for feature CHAS\n",
      "p-value: 0.000000000000\t for feature NOX\n",
      "p-value: 0.000000000000\t for feature RM\n",
      "p-value: 0.000000000000\t for feature AGE\n",
      "p-value: 0.000000012066\t for feature DIS\n",
      "p-value: 0.000000000000\t for feature RAD\n",
      "p-value: 0.000000000000\t for feature TAX\n",
      "p-value: 0.000000000000\t for feature PTRATIO\n",
      "p-value: 0.000000000000\t for feature B\n",
      "p-value: 0.000000000000\t for feature LSTAT\n"
     ]
    }
   ],
   "source": [
    "for n, s in zip(boston.feature_names, Selector_f.pvalues_):\n",
    "    print \"p-value: %13.12f\\t for feature\" %s, n"
   ]
  },
  {
   "cell_type": "markdown",
   "metadata": {},
   "source": [
    "Using the level of association output helps you to choose the most important variables for your machine-learning model, but you should watch out for these possible problems:\n",
    "\n",
    "- Some variables with high association could also be highly correlated, introducing duplicated information, which     acts as noise in the learning process.\n",
    "\n",
    "- Some variables may be penalized, especially binary ones (variables indicating a status or characteristic using the value 1 when it is present, 0 when it is not). For example, notice that the output shows the binary variable CHAS as the least associated with the target variable (but you know from previous examples that it’s influential from the cross-validation phase).\n",
    "\n",
    "The univariate selection process can give you a **real advantage** when you have **a huge number of variables** to select from and all other methods turn computationally infeasible. The best procedure is to reduce the value of **SelectPercentile** by half or more of the available variables, reduce the number of variables to a manageable number, and consequently allow the use of a more sophisticated and more precise method such as a greedy search."
   ]
  },
  {
   "cell_type": "markdown",
   "metadata": {},
   "source": [
    "### Using a greedy search"
   ]
  },
  {
   "cell_type": "markdown",
   "metadata": {},
   "source": [
    "When using a univariate selection, you have to decide for yourself how many variables to keep: Greedy selection automatically reduces the number of features involved in a learning model on the basis of their effective contribution to the performance measured by the error measure.\n",
    "\n",
    "The RFECV class, fitting the data, can provide you with information on the number of useful features, point them out to you, and automatically transform the X data, by the method transform, into a reduced variable set, as shown in the following example:"
   ]
  },
  {
   "cell_type": "markdown",
   "metadata": {},
   "source": [
    "It’s possible to obtain an index to the optimum variable set by calling the attribute **support_** from the RFECV class after you fit it."
   ]
  },
  {
   "cell_type": "code",
   "execution_count": 60,
   "metadata": {
    "collapsed": false
   },
   "outputs": [
    {
     "name": "stdout",
     "output_type": "stream",
     "text": [
      "['CHAS' 'NOX' 'RM' 'DIS' 'PTRATIO' 'LSTAT']\n"
     ]
    }
   ],
   "source": [
    "print boston.feature_names[selector.support_]"
   ]
  },
  {
   "cell_type": "markdown",
   "metadata": {},
   "source": [
    "Notice that CHAS is now included among the most predictive features, which contrasts with the result from the univariate search. The RFECV method can detect whether a variable is important, no matter whether it is binary, categorical, or numeric, because it directly evaluates the role played by the feature in the prediction."
   ]
  },
  {
   "cell_type": "markdown",
   "metadata": {},
   "source": [
    "The RFECV method is certainly more efficient, when compared to the univariate approach, because it considers highly correlated features and is tuned to optimize the evaluation measure (which usually is not Chi-square or F-score). Being a greedy process, it’s computationally demanding and may only approximate the best set of predictors."
   ]
  },
  {
   "cell_type": "markdown",
   "metadata": {},
   "source": [
    "As RFECV learns the best set of variables from data, the selection may overfit, which is what happens with all other machine-learning algorithms. Trying RFECV on different samples of the training data can confirm the best variables to use."
   ]
  },
  {
   "cell_type": "code",
   "execution_count": 77,
   "metadata": {
    "collapsed": false
   },
   "outputs": [
    {
     "name": "stdout",
     "output_type": "stream",
     "text": [
      "LinearRegression(copy_X=True, fit_intercept=True, n_jobs=1, normalize=False)\n",
      "6\n",
      "[False False False  True  True  True False  True False False  True False\n",
      "  True]\n",
      "[3 5 4 1 1 1 8 1 2 6 1 7 1]\n",
      "[-74.15075364 -58.91200179 -46.98911866 -39.70772115 -38.45325241\n",
      " -31.60974549 -33.08806978 -35.29131256 -34.99567387 -34.85887256\n",
      " -36.40257637 -35.57595111 -34.76309151]\n"
     ]
    }
   ],
   "source": [
    "from sklearn import linear_model\n",
    "from sklearn.feature_selection import RFECV\n",
    "\n",
    "regression = linear_model.LinearRegression()\n",
    "selector = RFECV(estimator = regression,\n",
    "                        cv = 10,\n",
    "                   scoring = \"mean_squared_error\")\n",
    "selector.fit(X, y)\n",
    "\n",
    "print selector.estimator_\n",
    "print selector.n_features_\n",
    "print selector.support_\n",
    "print selector.ranking_\n",
    "print selector.grid_scores_"
   ]
  }
 ],
 "metadata": {
  "kernelspec": {
   "display_name": "Python 2",
   "language": "python",
   "name": "python2"
  },
  "language_info": {
   "codemirror_mode": {
    "name": "ipython",
    "version": 2
   },
   "file_extension": ".py",
   "mimetype": "text/x-python",
   "name": "python",
   "nbconvert_exporter": "python",
   "pygments_lexer": "ipython2",
   "version": "2.7.10"
  }
 },
 "nbformat": 4,
 "nbformat_minor": 0
}
