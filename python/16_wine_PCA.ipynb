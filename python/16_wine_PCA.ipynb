{
 "cells": [
  {
   "cell_type": "code",
   "execution_count": 1,
   "metadata": {
    "collapsed": true
   },
   "outputs": [],
   "source": [
    "import numpy as np\n",
    "import pandas as pd"
   ]
  },
  {
   "cell_type": "code",
   "execution_count": 2,
   "metadata": {
    "collapsed": false
   },
   "outputs": [],
   "source": [
    "DF = pd.read_csv(\"wine.csv\")\n",
    "X = DF.ix[:,1:].as_matrix()\n",
    "y = DF.ix[:,0 ].as_matrix()"
   ]
  },
  {
   "cell_type": "code",
   "execution_count": 3,
   "metadata": {
    "collapsed": false
   },
   "outputs": [],
   "source": [
    "from sklearn.decomposition import PCA\n",
    "\n",
    "pcaf = PCA(copy=True, n_components=\"mle\", whiten=False)\n",
    "pcat = PCA(copy=True, n_components=\"mle\", whiten=True)\n",
    "\n",
    "Xrf = pcaf.fit_transform(X)\n",
    "Xrt = pcat.fit_transform(X)"
   ]
  },
  {
   "cell_type": "code",
   "execution_count": 4,
   "metadata": {
    "collapsed": true
   },
   "outputs": [],
   "source": [
    "from sklearn.cross_validation import KFold, cross_val_score"
   ]
  },
  {
   "cell_type": "code",
   "execution_count": 5,
   "metadata": {
    "collapsed": false
   },
   "outputs": [
    {
     "name": "stdout",
     "output_type": "stream",
     "text": [
      "Accuracy: 0.6167 (+/- 0.3859)\n"
     ]
    }
   ],
   "source": [
    "from sklearn.svm import LinearSVC\n",
    "clf = LinearSVC(loss = 'squared_hinge')\n",
    "\n",
    "kfold = KFold(len(X), n_folds = 5)\n",
    "scores= cross_val_score(clf, X, y, cv=kfold, n_jobs=-1)\n",
    "print(\"Accuracy: %0.4f (+/- %0.4f)\" %(np.mean(scores), np.sqrt(np.std(scores))))"
   ]
  },
  {
   "cell_type": "code",
   "execution_count": 6,
   "metadata": {
    "collapsed": false
   },
   "outputs": [
    {
     "name": "stdout",
     "output_type": "stream",
     "text": [
      "Accuracy: 0.9273 (+/- 0.2272)\n"
     ]
    }
   ],
   "source": [
    "scores= cross_val_score(clf, Xrf, y, cv=kfold, n_jobs=-1)\n",
    "print(\"Accuracy: %0.4f (+/- %0.4f)\" %(np.mean(scores), np.sqrt(np.std(scores))))"
   ]
  },
  {
   "cell_type": "code",
   "execution_count": 7,
   "metadata": {
    "collapsed": false
   },
   "outputs": [
    {
     "name": "stdout",
     "output_type": "stream",
     "text": [
      "Accuracy: 0.9495 (+/- 0.1814)\n"
     ]
    }
   ],
   "source": [
    "scores= cross_val_score(clf, Xrt, y, cv=kfold, n_jobs=-1)\n",
    "print(\"Accuracy: %0.4f (+/- %0.4f)\" %(np.mean(scores), np.sqrt(np.std(scores))))"
   ]
  },
  {
   "cell_type": "code",
   "execution_count": 8,
   "metadata": {
    "collapsed": false
   },
   "outputs": [
    {
     "name": "stdout",
     "output_type": "stream",
     "text": [
      "Accuracy: 0.1060 (+/- 0.3811)\n"
     ]
    }
   ],
   "source": [
    "from sklearn.svm import SVC\n",
    "clf = SVC()\n",
    "\n",
    "kfold = KFold(len(X), n_folds = 5)\n",
    "scores= cross_val_score(clf, X, y, cv=kfold, n_jobs=-1)\n",
    "print(\"Accuracy: %0.4f (+/- %0.4f)\" %(np.mean(scores), np.sqrt(np.std(scores))))"
   ]
  },
  {
   "cell_type": "code",
   "execution_count": 9,
   "metadata": {
    "collapsed": false
   },
   "outputs": [
    {
     "name": "stdout",
     "output_type": "stream",
     "text": [
      "Accuracy: 0.1005 (+/- 0.3841)\n"
     ]
    }
   ],
   "source": [
    "scores= cross_val_score(clf, Xrf, y, cv=kfold, n_jobs=-1)\n",
    "print(\"Accuracy: %0.4f (+/- %0.4f)\" %(np.mean(scores), np.sqrt(np.std(scores))))"
   ]
  },
  {
   "cell_type": "code",
   "execution_count": 10,
   "metadata": {
    "collapsed": false
   },
   "outputs": [
    {
     "name": "stdout",
     "output_type": "stream",
     "text": [
      "Accuracy: 0.8646 (+/- 0.3082)\n"
     ]
    }
   ],
   "source": [
    "scores= cross_val_score(clf, Xrt, y, cv=kfold, n_jobs=-1)\n",
    "print(\"Accuracy: %0.4f (+/- %0.4f)\" %(np.mean(scores), np.sqrt(np.std(scores))))"
   ]
  },
  {
   "cell_type": "code",
   "execution_count": 11,
   "metadata": {
    "collapsed": true
   },
   "outputs": [],
   "source": [
    "from sklearn.neighbors import KNeighborsClassifier\n",
    "kNN = KNeighborsClassifier(n_neighbors=5)"
   ]
  },
  {
   "cell_type": "code",
   "execution_count": 12,
   "metadata": {
    "collapsed": false
   },
   "outputs": [
    {
     "name": "stdout",
     "output_type": "stream",
     "text": [
      "Accuracy: 0.6100 (+/- 0.5566)\n"
     ]
    }
   ],
   "source": [
    "scores= cross_val_score(kNN, X, y, cv=kfold, n_jobs=-1)\n",
    "print(\"Accuracy: %0.4f (+/- %0.4f)\" %(np.mean(scores), np.sqrt(np.std(scores))))"
   ]
  },
  {
   "cell_type": "code",
   "execution_count": 13,
   "metadata": {
    "collapsed": false
   },
   "outputs": [
    {
     "name": "stdout",
     "output_type": "stream",
     "text": [
      "Accuracy: 0.6100 (+/- 0.5566)\n"
     ]
    }
   ],
   "source": [
    "scores= cross_val_score(kNN, Xrf, y, cv=kfold, n_jobs=-1)\n",
    "print(\"Accuracy: %0.4f (+/- %0.4f)\" %(np.mean(scores), np.sqrt(np.std(scores))))"
   ]
  },
  {
   "cell_type": "code",
   "execution_count": 14,
   "metadata": {
    "collapsed": false
   },
   "outputs": [
    {
     "name": "stdout",
     "output_type": "stream",
     "text": [
      "Accuracy: 0.6106 (+/- 0.4637)\n"
     ]
    }
   ],
   "source": [
    "scores= cross_val_score(kNN, Xrt, y, cv=kfold, n_jobs=-1)\n",
    "print(\"Accuracy: %0.4f (+/- %0.4f)\" %(np.mean(scores), np.sqrt(np.std(scores))))"
   ]
  },
  {
   "cell_type": "code",
   "execution_count": 15,
   "metadata": {
    "collapsed": true
   },
   "outputs": [],
   "source": [
    "# fit(X[, y])           Fit the model with X.\n",
    "# fit_transform(X[, y]) Fit the model with X and apply the dimensionality reduction on X.\n",
    "# get_covariance()      Compute data covariance with the generative model.\n",
    "# get_params([deep])    Get parameters for this estimator.\n",
    "# get_precision()       Compute data precision matrix with the generative model.\n",
    "# inverse_transform(X)  Transform data back to its original space, i.e.,\n",
    "# score(X[, y])         Return the average log-likelihood of all samples\n",
    "# score_samples(X)      Return the log-likelihood of each sample\n",
    "# set_params(**params)  Set the parameters of this estimator.\n",
    "# transform(X)          Apply the dimensionality reduction on X."
   ]
  },
  {
   "cell_type": "code",
   "execution_count": 16,
   "metadata": {
    "collapsed": false
   },
   "outputs": [
    {
     "name": "stdout",
     "output_type": "stream",
     "text": [
      "PCA(copy=True, n_components=1, whiten=True)\n",
      "Accuracy: 0.5487 (+/- 0.5617)\n",
      "0.998091230492\n",
      "15.7208047352\n",
      "\n",
      "PCA(copy=True, n_components=2, whiten=True)\n",
      "Accuracy: 0.5483 (+/- 0.5372)\n",
      "0.999827146117\n",
      "1.55306269038\n",
      "\n",
      "PCA(copy=True, n_components=3, whiten=True)\n",
      "Accuracy: 0.6208 (+/- 0.5672)\n",
      "0.999922105074\n",
      "0.769859900136\n",
      "\n",
      "PCA(copy=True, n_components=4, whiten=True)\n",
      "Accuracy: 0.8986 (+/- 0.1979)\n",
      "0.99997232243\n",
      "0.303940080331\n",
      "\n",
      "PCA(copy=True, n_components=5, whiten=True)\n",
      "Accuracy: 0.8986 (+/- 0.2309)\n",
      "0.999984686115\n",
      "0.189189889935\n",
      "\n",
      "PCA(copy=True, n_components=6, whiten=True)\n",
      "Accuracy: 0.8979 (+/- 0.2905)\n",
      "0.999993148245\n",
      "0.0967400468496\n",
      "\n",
      "PCA(copy=True, n_components=7, whiten=True)\n",
      "Accuracy: 0.8983 (+/- 0.2800)\n",
      "0.99999595506\n",
      "0.0666290119774\n",
      "\n",
      "PCA(copy=True, n_components=8, whiten=True)\n",
      "Accuracy: 0.8978 (+/- 0.3478)\n",
      "0.99999747814\n",
      "0.0498486524068\n",
      "\n",
      "PCA(copy=True, n_components=9, whiten=True)\n",
      "Accuracy: 0.8644 (+/- 0.3264)\n",
      "0.999998605971\n",
      "0.0344440636005\n",
      "\n",
      "PCA(copy=True, n_components=10, whiten=True)\n",
      "Accuracy: 0.8870 (+/- 0.3250)\n",
      "0.999999327387\n",
      "0.022158824951\n",
      "\n",
      "PCA(copy=True, n_components=11, whiten=True)\n",
      "Accuracy: 0.8763 (+/- 0.2705)\n",
      "0.999999705447\n",
      "0.0145557984959\n",
      "\n",
      "PCA(copy=True, n_components=12, whiten=True)\n",
      "Accuracy: 0.8646 (+/- 0.3082)\n",
      "0.999999917461\n",
      "0.00815761492188\n",
      "\n"
     ]
    }
   ],
   "source": [
    "for i in range(1, 13):\n",
    "    pcai = PCA(n_components=i, whiten=True)\n",
    "    print pcai\n",
    "    Xri = pcai.fit_transform(X)\n",
    "    scores = cross_val_score(clf, Xri, y, cv=kfold, n_jobs=-1)\n",
    "    print(\"Accuracy: %0.4f (+/- %0.4f)\" %(np.mean(scores), np.sqrt(np.std(scores))))\n",
    "    print(sum(pcai.explained_variance_ratio_))\n",
    "    print(pcai.noise_variance_)\n",
    "    print"
   ]
  }
 ],
 "metadata": {
  "kernelspec": {
   "display_name": "Python 2",
   "language": "python",
   "name": "python2"
  },
  "language_info": {
   "codemirror_mode": {
    "name": "ipython",
    "version": 2
   },
   "file_extension": ".py",
   "mimetype": "text/x-python",
   "name": "python",
   "nbconvert_exporter": "python",
   "pygments_lexer": "ipython2",
   "version": "2.7.10"
  }
 },
 "nbformat": 4,
 "nbformat_minor": 0
}
