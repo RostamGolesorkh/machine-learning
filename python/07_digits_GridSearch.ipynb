{
 "cells": [
  {
   "cell_type": "markdown",
   "metadata": {},
   "source": [
    "# Grid Search: Searching for estimator parameters"
   ]
  },
  {
   "cell_type": "markdown",
   "metadata": {},
   "source": [
    "Parameters that are not directly learned within estimators, can be set by searching in a parameter space for the best Cross-validation calculation evaluating the estimator performance score. Typical example parameters **C**, **kernel** and **gamma** for Support Vector Classifier, **alpha** for Lasso, etc.\n",
    "\n",
    "Such parameters are often referred to as hyperparameters (particularly in Bayesian learning), distinguishing them from the parameters optimized in a machine learning procedure.\n",
    "\n",
    "A search consists of:\n",
    "- an estimator (regressor or classifier such as sklearn.svm.SVC());\n",
    "- a method for searching or sampling candidates;\n",
    "- a cross-validation scheme; and\n",
    "- a score function.\n",
    "\n",
    "Two generic approaches to sampling search candidates are provided in scikit-learn: for given values, **GridSearchCV** exhaustively considers all parameter combinations, while **RandomizedSearchCV** can sample a given number of candidates from a parameter space with a specified distribution.\n",
    "\n",
    "In this tutorial, an exaple will be presented for GridSearchCV.\n",
    "\n",
    "You can find more imformation about GridSearchCV from here:\n",
    "http://scikit-learn.org/stable/modules/generated/sklearn.grid_search.GridSearchCV.html\n",
    "\n",
    "First, we read the digit data from scikit-learn datasets."
   ]
  },
  {
   "cell_type": "code",
   "execution_count": 1,
   "metadata": {
    "collapsed": false
   },
   "outputs": [],
   "source": [
    "from sklearn.datasets import load_digits\n",
    "\n",
    "digits = load_digits()\n",
    "\n",
    "X = digits.data\n",
    "y = digits.target"
   ]
  },
  {
   "cell_type": "markdown",
   "metadata": {},
   "source": [
    "till, here"
   ]
  },
  {
   "cell_type": "code",
   "execution_count": 24,
   "metadata": {
    "collapsed": false
   },
   "outputs": [
    {
     "data": {
      "text/plain": [
       "GridSearchCV(cv=5, error_score='raise',\n",
       "       estimator=SVC(C=1.0, cache_size=200, class_weight=None, coef0=0.0,\n",
       "  decision_function_shape=None, degree=3, gamma='auto', kernel='rbf',\n",
       "  max_iter=-1, probability=False, random_state=None, shrinking=True,\n",
       "  tol=0.001, verbose=False),\n",
       "       fit_params={}, iid=True, n_jobs=-1,\n",
       "       param_grid=[{'C': [1e-05, 1.8329807108324375e-05, 3.359818286283781e-05, 6.158482110660267e-05, 0.00011288378916846884, 0.00020691380811147902, 0.000379269019073225, 0.0006951927961775605, 0.0012742749857031334, 0.002335721469090121, 0.004281332398719391, 0.007847599703514606, 0.01438449888287663, 0...[0.0001, 0.0002, 0.0003, 0.0004, 0.0005, 0.0006, 0.0007, 0.0008, 0.0007, 0.001], 'kernel': ['rbf']}],\n",
       "       pre_dispatch='2*n_jobs', refit=True, scoring=None, verbose=0)"
      ]
     },
     "execution_count": 24,
     "metadata": {},
     "output_type": "execute_result"
    }
   ],
   "source": [
    "import numpy as np\n",
    "from sklearn.svm import SVC\n",
    "from sklearn.grid_search import GridSearchCV\n",
    "\n",
    "svc = SVC()\n",
    "\n",
    "Cs = (np.logspace(-5, 0, num=20)).tolist()\n",
    "my_gamma = [0.0001,0.0002,0.0003,0.0004,0.0005,0.0006,0.0007,0.0008,0.0007,0.0010]\n",
    "my_param_grid = [{'C':Cs, 'kernel':['linear']}, {'C':Cs, 'kernel':['rbf'], 'gamma':my_gamma}]\n",
    "\n",
    "clf = GridSearchCV(estimator = svc,\n",
    "                  param_grid = my_param_grid,\n",
    "                      n_jobs = -1,\n",
    "                         iid = True,\n",
    "                          cv = 5,\n",
    "                       refit = True)\n",
    "clf.fit(X, y)"
   ]
  },
  {
   "cell_type": "code",
   "execution_count": 25,
   "metadata": {
    "collapsed": false
   },
   "outputs": [
    {
     "data": {
      "text/plain": [
       "[mean: 0.75626, std: 0.01617, params: {'C': 1e-05, 'kernel': 'linear'},\n",
       " mean: 0.88147, std: 0.03122, params: {'C': 1.8329807108324375e-05, 'kernel': 'linear'},\n",
       " mean: 0.90540, std: 0.02654, params: {'C': 3.359818286283781e-05, 'kernel': 'linear'},\n",
       " mean: 0.92766, std: 0.02884, params: {'C': 6.158482110660267e-05, 'kernel': 'linear'},\n",
       " mean: 0.93267, std: 0.02914, params: {'C': 0.00011288378916846884, 'kernel': 'linear'},\n",
       " mean: 0.94491, std: 0.02566, params: {'C': 0.00020691380811147902, 'kernel': 'linear'},\n",
       " mean: 0.94936, std: 0.02466, params: {'C': 0.000379269019073225, 'kernel': 'linear'},\n",
       " mean: 0.94825, std: 0.02689, params: {'C': 0.0006951927961775605, 'kernel': 'linear'},\n",
       " mean: 0.95326, std: 0.02383, params: {'C': 0.0012742749857031334, 'kernel': 'linear'},\n",
       " mean: 0.95103, std: 0.02364, params: {'C': 0.002335721469090121, 'kernel': 'linear'},\n",
       " mean: 0.94825, std: 0.02298, params: {'C': 0.004281332398719391, 'kernel': 'linear'},\n",
       " mean: 0.95214, std: 0.02185, params: {'C': 0.007847599703514606, 'kernel': 'linear'},\n",
       " mean: 0.95047, std: 0.01900, params: {'C': 0.01438449888287663, 'kernel': 'linear'},\n",
       " mean: 0.94936, std: 0.01911, params: {'C': 0.026366508987303583, 'kernel': 'linear'},\n",
       " mean: 0.94936, std: 0.01911, params: {'C': 0.04832930238571752, 'kernel': 'linear'},\n",
       " mean: 0.94936, std: 0.01911, params: {'C': 0.08858667904100823, 'kernel': 'linear'},\n",
       " mean: 0.94936, std: 0.01911, params: {'C': 0.1623776739188721, 'kernel': 'linear'},\n",
       " mean: 0.94936, std: 0.01911, params: {'C': 0.2976351441631319, 'kernel': 'linear'},\n",
       " mean: 0.94936, std: 0.01911, params: {'C': 0.5455594781168515, 'kernel': 'linear'},\n",
       " mean: 0.94936, std: 0.01911, params: {'C': 1.0, 'kernel': 'linear'},\n",
       " mean: 0.13689, std: 0.07081, params: {'C': 1e-05, 'gamma': 0.0001, 'kernel': 'rbf'},\n",
       " mean: 0.13856, std: 0.07415, params: {'C': 1e-05, 'gamma': 0.0002, 'kernel': 'rbf'},\n",
       " mean: 0.13968, std: 0.07638, params: {'C': 1e-05, 'gamma': 0.0003, 'kernel': 'rbf'},\n",
       " mean: 0.14023, std: 0.07750, params: {'C': 1e-05, 'gamma': 0.0004, 'kernel': 'rbf'},\n",
       " mean: 0.14023, std: 0.07750, params: {'C': 1e-05, 'gamma': 0.0005, 'kernel': 'rbf'},\n",
       " mean: 0.14135, std: 0.07972, params: {'C': 1e-05, 'gamma': 0.0006, 'kernel': 'rbf'},\n",
       " mean: 0.14135, std: 0.07972, params: {'C': 1e-05, 'gamma': 0.0007, 'kernel': 'rbf'},\n",
       " mean: 0.14135, std: 0.07972, params: {'C': 1e-05, 'gamma': 0.0008, 'kernel': 'rbf'},\n",
       " mean: 0.14135, std: 0.07972, params: {'C': 1e-05, 'gamma': 0.0007, 'kernel': 'rbf'},\n",
       " mean: 0.14135, std: 0.07972, params: {'C': 1e-05, 'gamma': 0.001, 'kernel': 'rbf'},\n",
       " mean: 0.13689, std: 0.07081, params: {'C': 1.8329807108324375e-05, 'gamma': 0.0001, 'kernel': 'rbf'},\n",
       " mean: 0.13856, std: 0.07415, params: {'C': 1.8329807108324375e-05, 'gamma': 0.0002, 'kernel': 'rbf'},\n",
       " mean: 0.13968, std: 0.07638, params: {'C': 1.8329807108324375e-05, 'gamma': 0.0003, 'kernel': 'rbf'},\n",
       " mean: 0.14023, std: 0.07750, params: {'C': 1.8329807108324375e-05, 'gamma': 0.0004, 'kernel': 'rbf'},\n",
       " mean: 0.14023, std: 0.07750, params: {'C': 1.8329807108324375e-05, 'gamma': 0.0005, 'kernel': 'rbf'},\n",
       " mean: 0.14135, std: 0.07972, params: {'C': 1.8329807108324375e-05, 'gamma': 0.0006, 'kernel': 'rbf'},\n",
       " mean: 0.14135, std: 0.07972, params: {'C': 1.8329807108324375e-05, 'gamma': 0.0007, 'kernel': 'rbf'},\n",
       " mean: 0.14135, std: 0.07972, params: {'C': 1.8329807108324375e-05, 'gamma': 0.0008, 'kernel': 'rbf'},\n",
       " mean: 0.14135, std: 0.07972, params: {'C': 1.8329807108324375e-05, 'gamma': 0.0007, 'kernel': 'rbf'},\n",
       " mean: 0.14135, std: 0.07972, params: {'C': 1.8329807108324375e-05, 'gamma': 0.001, 'kernel': 'rbf'},\n",
       " mean: 0.13689, std: 0.07081, params: {'C': 3.359818286283781e-05, 'gamma': 0.0001, 'kernel': 'rbf'},\n",
       " mean: 0.13856, std: 0.07415, params: {'C': 3.359818286283781e-05, 'gamma': 0.0002, 'kernel': 'rbf'},\n",
       " mean: 0.13968, std: 0.07638, params: {'C': 3.359818286283781e-05, 'gamma': 0.0003, 'kernel': 'rbf'},\n",
       " mean: 0.14023, std: 0.07750, params: {'C': 3.359818286283781e-05, 'gamma': 0.0004, 'kernel': 'rbf'},\n",
       " mean: 0.14023, std: 0.07750, params: {'C': 3.359818286283781e-05, 'gamma': 0.0005, 'kernel': 'rbf'},\n",
       " mean: 0.14135, std: 0.07972, params: {'C': 3.359818286283781e-05, 'gamma': 0.0006, 'kernel': 'rbf'},\n",
       " mean: 0.14135, std: 0.07972, params: {'C': 3.359818286283781e-05, 'gamma': 0.0007, 'kernel': 'rbf'},\n",
       " mean: 0.14135, std: 0.07972, params: {'C': 3.359818286283781e-05, 'gamma': 0.0008, 'kernel': 'rbf'},\n",
       " mean: 0.14135, std: 0.07972, params: {'C': 3.359818286283781e-05, 'gamma': 0.0007, 'kernel': 'rbf'},\n",
       " mean: 0.14135, std: 0.07972, params: {'C': 3.359818286283781e-05, 'gamma': 0.001, 'kernel': 'rbf'},\n",
       " mean: 0.13689, std: 0.07081, params: {'C': 6.158482110660267e-05, 'gamma': 0.0001, 'kernel': 'rbf'},\n",
       " mean: 0.13856, std: 0.07415, params: {'C': 6.158482110660267e-05, 'gamma': 0.0002, 'kernel': 'rbf'},\n",
       " mean: 0.13968, std: 0.07638, params: {'C': 6.158482110660267e-05, 'gamma': 0.0003, 'kernel': 'rbf'},\n",
       " mean: 0.14023, std: 0.07750, params: {'C': 6.158482110660267e-05, 'gamma': 0.0004, 'kernel': 'rbf'},\n",
       " mean: 0.14023, std: 0.07750, params: {'C': 6.158482110660267e-05, 'gamma': 0.0005, 'kernel': 'rbf'},\n",
       " mean: 0.14135, std: 0.07972, params: {'C': 6.158482110660267e-05, 'gamma': 0.0006, 'kernel': 'rbf'},\n",
       " mean: 0.14135, std: 0.07972, params: {'C': 6.158482110660267e-05, 'gamma': 0.0007, 'kernel': 'rbf'},\n",
       " mean: 0.14135, std: 0.07972, params: {'C': 6.158482110660267e-05, 'gamma': 0.0008, 'kernel': 'rbf'},\n",
       " mean: 0.14135, std: 0.07972, params: {'C': 6.158482110660267e-05, 'gamma': 0.0007, 'kernel': 'rbf'},\n",
       " mean: 0.14135, std: 0.07972, params: {'C': 6.158482110660267e-05, 'gamma': 0.001, 'kernel': 'rbf'},\n",
       " mean: 0.13689, std: 0.07081, params: {'C': 0.00011288378916846884, 'gamma': 0.0001, 'kernel': 'rbf'},\n",
       " mean: 0.13856, std: 0.07415, params: {'C': 0.00011288378916846884, 'gamma': 0.0002, 'kernel': 'rbf'},\n",
       " mean: 0.13968, std: 0.07638, params: {'C': 0.00011288378916846884, 'gamma': 0.0003, 'kernel': 'rbf'},\n",
       " mean: 0.14023, std: 0.07750, params: {'C': 0.00011288378916846884, 'gamma': 0.0004, 'kernel': 'rbf'},\n",
       " mean: 0.14023, std: 0.07750, params: {'C': 0.00011288378916846884, 'gamma': 0.0005, 'kernel': 'rbf'},\n",
       " mean: 0.14135, std: 0.07972, params: {'C': 0.00011288378916846884, 'gamma': 0.0006, 'kernel': 'rbf'},\n",
       " mean: 0.14135, std: 0.07972, params: {'C': 0.00011288378916846884, 'gamma': 0.0007, 'kernel': 'rbf'},\n",
       " mean: 0.14135, std: 0.07972, params: {'C': 0.00011288378916846884, 'gamma': 0.0008, 'kernel': 'rbf'},\n",
       " mean: 0.14135, std: 0.07972, params: {'C': 0.00011288378916846884, 'gamma': 0.0007, 'kernel': 'rbf'},\n",
       " mean: 0.14135, std: 0.07972, params: {'C': 0.00011288378916846884, 'gamma': 0.001, 'kernel': 'rbf'},\n",
       " mean: 0.13689, std: 0.07081, params: {'C': 0.00020691380811147902, 'gamma': 0.0001, 'kernel': 'rbf'},\n",
       " mean: 0.13856, std: 0.07415, params: {'C': 0.00020691380811147902, 'gamma': 0.0002, 'kernel': 'rbf'},\n",
       " mean: 0.13968, std: 0.07638, params: {'C': 0.00020691380811147902, 'gamma': 0.0003, 'kernel': 'rbf'},\n",
       " mean: 0.14023, std: 0.07750, params: {'C': 0.00020691380811147902, 'gamma': 0.0004, 'kernel': 'rbf'},\n",
       " mean: 0.14023, std: 0.07750, params: {'C': 0.00020691380811147902, 'gamma': 0.0005, 'kernel': 'rbf'},\n",
       " mean: 0.14135, std: 0.07972, params: {'C': 0.00020691380811147902, 'gamma': 0.0006, 'kernel': 'rbf'},\n",
       " mean: 0.14135, std: 0.07972, params: {'C': 0.00020691380811147902, 'gamma': 0.0007, 'kernel': 'rbf'},\n",
       " mean: 0.14135, std: 0.07972, params: {'C': 0.00020691380811147902, 'gamma': 0.0008, 'kernel': 'rbf'},\n",
       " mean: 0.14135, std: 0.07972, params: {'C': 0.00020691380811147902, 'gamma': 0.0007, 'kernel': 'rbf'},\n",
       " mean: 0.14135, std: 0.07972, params: {'C': 0.00020691380811147902, 'gamma': 0.001, 'kernel': 'rbf'},\n",
       " mean: 0.13689, std: 0.07081, params: {'C': 0.000379269019073225, 'gamma': 0.0001, 'kernel': 'rbf'},\n",
       " mean: 0.13856, std: 0.07415, params: {'C': 0.000379269019073225, 'gamma': 0.0002, 'kernel': 'rbf'},\n",
       " mean: 0.13968, std: 0.07638, params: {'C': 0.000379269019073225, 'gamma': 0.0003, 'kernel': 'rbf'},\n",
       " mean: 0.14023, std: 0.07750, params: {'C': 0.000379269019073225, 'gamma': 0.0004, 'kernel': 'rbf'},\n",
       " mean: 0.14023, std: 0.07750, params: {'C': 0.000379269019073225, 'gamma': 0.0005, 'kernel': 'rbf'},\n",
       " mean: 0.14135, std: 0.07972, params: {'C': 0.000379269019073225, 'gamma': 0.0006, 'kernel': 'rbf'},\n",
       " mean: 0.14135, std: 0.07972, params: {'C': 0.000379269019073225, 'gamma': 0.0007, 'kernel': 'rbf'},\n",
       " mean: 0.14135, std: 0.07972, params: {'C': 0.000379269019073225, 'gamma': 0.0008, 'kernel': 'rbf'},\n",
       " mean: 0.14135, std: 0.07972, params: {'C': 0.000379269019073225, 'gamma': 0.0007, 'kernel': 'rbf'},\n",
       " mean: 0.14135, std: 0.07972, params: {'C': 0.000379269019073225, 'gamma': 0.001, 'kernel': 'rbf'},\n",
       " mean: 0.13689, std: 0.07081, params: {'C': 0.0006951927961775605, 'gamma': 0.0001, 'kernel': 'rbf'},\n",
       " mean: 0.13856, std: 0.07415, params: {'C': 0.0006951927961775605, 'gamma': 0.0002, 'kernel': 'rbf'},\n",
       " mean: 0.13968, std: 0.07638, params: {'C': 0.0006951927961775605, 'gamma': 0.0003, 'kernel': 'rbf'},\n",
       " mean: 0.14023, std: 0.07750, params: {'C': 0.0006951927961775605, 'gamma': 0.0004, 'kernel': 'rbf'},\n",
       " mean: 0.14023, std: 0.07750, params: {'C': 0.0006951927961775605, 'gamma': 0.0005, 'kernel': 'rbf'},\n",
       " mean: 0.14135, std: 0.07972, params: {'C': 0.0006951927961775605, 'gamma': 0.0006, 'kernel': 'rbf'},\n",
       " mean: 0.14135, std: 0.07972, params: {'C': 0.0006951927961775605, 'gamma': 0.0007, 'kernel': 'rbf'},\n",
       " mean: 0.14135, std: 0.07972, params: {'C': 0.0006951927961775605, 'gamma': 0.0008, 'kernel': 'rbf'},\n",
       " mean: 0.14135, std: 0.07972, params: {'C': 0.0006951927961775605, 'gamma': 0.0007, 'kernel': 'rbf'},\n",
       " mean: 0.14135, std: 0.07972, params: {'C': 0.0006951927961775605, 'gamma': 0.001, 'kernel': 'rbf'},\n",
       " mean: 0.13689, std: 0.07081, params: {'C': 0.0012742749857031334, 'gamma': 0.0001, 'kernel': 'rbf'},\n",
       " mean: 0.13856, std: 0.07415, params: {'C': 0.0012742749857031334, 'gamma': 0.0002, 'kernel': 'rbf'},\n",
       " mean: 0.13968, std: 0.07638, params: {'C': 0.0012742749857031334, 'gamma': 0.0003, 'kernel': 'rbf'},\n",
       " mean: 0.14023, std: 0.07750, params: {'C': 0.0012742749857031334, 'gamma': 0.0004, 'kernel': 'rbf'},\n",
       " mean: 0.14023, std: 0.07750, params: {'C': 0.0012742749857031334, 'gamma': 0.0005, 'kernel': 'rbf'},\n",
       " mean: 0.14135, std: 0.07972, params: {'C': 0.0012742749857031334, 'gamma': 0.0006, 'kernel': 'rbf'},\n",
       " mean: 0.14135, std: 0.07972, params: {'C': 0.0012742749857031334, 'gamma': 0.0007, 'kernel': 'rbf'},\n",
       " mean: 0.14135, std: 0.07972, params: {'C': 0.0012742749857031334, 'gamma': 0.0008, 'kernel': 'rbf'},\n",
       " mean: 0.14135, std: 0.07972, params: {'C': 0.0012742749857031334, 'gamma': 0.0007, 'kernel': 'rbf'},\n",
       " mean: 0.14135, std: 0.07972, params: {'C': 0.0012742749857031334, 'gamma': 0.001, 'kernel': 'rbf'},\n",
       " mean: 0.13689, std: 0.07081, params: {'C': 0.002335721469090121, 'gamma': 0.0001, 'kernel': 'rbf'},\n",
       " mean: 0.13856, std: 0.07415, params: {'C': 0.002335721469090121, 'gamma': 0.0002, 'kernel': 'rbf'},\n",
       " mean: 0.13968, std: 0.07638, params: {'C': 0.002335721469090121, 'gamma': 0.0003, 'kernel': 'rbf'},\n",
       " mean: 0.14023, std: 0.07750, params: {'C': 0.002335721469090121, 'gamma': 0.0004, 'kernel': 'rbf'},\n",
       " mean: 0.14023, std: 0.07750, params: {'C': 0.002335721469090121, 'gamma': 0.0005, 'kernel': 'rbf'},\n",
       " mean: 0.14135, std: 0.07972, params: {'C': 0.002335721469090121, 'gamma': 0.0006, 'kernel': 'rbf'},\n",
       " mean: 0.14135, std: 0.07972, params: {'C': 0.002335721469090121, 'gamma': 0.0007, 'kernel': 'rbf'},\n",
       " mean: 0.14135, std: 0.07972, params: {'C': 0.002335721469090121, 'gamma': 0.0008, 'kernel': 'rbf'},\n",
       " mean: 0.14135, std: 0.07972, params: {'C': 0.002335721469090121, 'gamma': 0.0007, 'kernel': 'rbf'},\n",
       " mean: 0.14135, std: 0.07972, params: {'C': 0.002335721469090121, 'gamma': 0.001, 'kernel': 'rbf'},\n",
       " mean: 0.13689, std: 0.07081, params: {'C': 0.004281332398719391, 'gamma': 0.0001, 'kernel': 'rbf'},\n",
       " mean: 0.13856, std: 0.07415, params: {'C': 0.004281332398719391, 'gamma': 0.0002, 'kernel': 'rbf'},\n",
       " mean: 0.13968, std: 0.07638, params: {'C': 0.004281332398719391, 'gamma': 0.0003, 'kernel': 'rbf'},\n",
       " mean: 0.14023, std: 0.07750, params: {'C': 0.004281332398719391, 'gamma': 0.0004, 'kernel': 'rbf'},\n",
       " mean: 0.14023, std: 0.07750, params: {'C': 0.004281332398719391, 'gamma': 0.0005, 'kernel': 'rbf'},\n",
       " mean: 0.14135, std: 0.07972, params: {'C': 0.004281332398719391, 'gamma': 0.0006, 'kernel': 'rbf'},\n",
       " mean: 0.14135, std: 0.07972, params: {'C': 0.004281332398719391, 'gamma': 0.0007, 'kernel': 'rbf'},\n",
       " mean: 0.14135, std: 0.07972, params: {'C': 0.004281332398719391, 'gamma': 0.0008, 'kernel': 'rbf'},\n",
       " mean: 0.14135, std: 0.07972, params: {'C': 0.004281332398719391, 'gamma': 0.0007, 'kernel': 'rbf'},\n",
       " mean: 0.14135, std: 0.07972, params: {'C': 0.004281332398719391, 'gamma': 0.001, 'kernel': 'rbf'},\n",
       " mean: 0.13689, std: 0.07081, params: {'C': 0.007847599703514606, 'gamma': 0.0001, 'kernel': 'rbf'},\n",
       " mean: 0.13856, std: 0.07415, params: {'C': 0.007847599703514606, 'gamma': 0.0002, 'kernel': 'rbf'},\n",
       " mean: 0.13968, std: 0.07638, params: {'C': 0.007847599703514606, 'gamma': 0.0003, 'kernel': 'rbf'},\n",
       " mean: 0.14079, std: 0.07723, params: {'C': 0.007847599703514606, 'gamma': 0.0004, 'kernel': 'rbf'},\n",
       " mean: 0.14691, std: 0.07534, params: {'C': 0.007847599703514606, 'gamma': 0.0005, 'kernel': 'rbf'},\n",
       " mean: 0.14802, std: 0.07754, params: {'C': 0.007847599703514606, 'gamma': 0.0006, 'kernel': 'rbf'},\n",
       " mean: 0.14691, std: 0.07775, params: {'C': 0.007847599703514606, 'gamma': 0.0007, 'kernel': 'rbf'},\n",
       " mean: 0.14413, std: 0.07855, params: {'C': 0.007847599703514606, 'gamma': 0.0008, 'kernel': 'rbf'},\n",
       " mean: 0.14691, std: 0.07775, params: {'C': 0.007847599703514606, 'gamma': 0.0007, 'kernel': 'rbf'},\n",
       " mean: 0.14135, std: 0.07972, params: {'C': 0.007847599703514606, 'gamma': 0.001, 'kernel': 'rbf'},\n",
       " mean: 0.13689, std: 0.07081, params: {'C': 0.01438449888287663, 'gamma': 0.0001, 'kernel': 'rbf'},\n",
       " mean: 0.18364, std: 0.08538, params: {'C': 0.01438449888287663, 'gamma': 0.0002, 'kernel': 'rbf'},\n",
       " mean: 0.36561, std: 0.06538, params: {'C': 0.01438449888287663, 'gamma': 0.0003, 'kernel': 'rbf'},\n",
       " mean: 0.47412, std: 0.03884, params: {'C': 0.01438449888287663, 'gamma': 0.0004, 'kernel': 'rbf'},\n",
       " mean: 0.52922, std: 0.02826, params: {'C': 0.01438449888287663, 'gamma': 0.0005, 'kernel': 'rbf'},\n",
       " mean: 0.55927, std: 0.02474, params: {'C': 0.01438449888287663, 'gamma': 0.0006, 'kernel': 'rbf'},\n",
       " mean: 0.55259, std: 0.03149, params: {'C': 0.01438449888287663, 'gamma': 0.0007, 'kernel': 'rbf'},\n",
       " mean: 0.53756, std: 0.03403, params: {'C': 0.01438449888287663, 'gamma': 0.0008, 'kernel': 'rbf'},\n",
       " mean: 0.55259, std: 0.03149, params: {'C': 0.01438449888287663, 'gamma': 0.0007, 'kernel': 'rbf'},\n",
       " mean: 0.46800, std: 0.06473, params: {'C': 0.01438449888287663, 'gamma': 0.001, 'kernel': 'rbf'},\n",
       " mean: 0.25598, std: 0.07323, params: {'C': 0.026366508987303583, 'gamma': 0.0001, 'kernel': 'rbf'},\n",
       " mean: 0.67112, std: 0.01912, params: {'C': 0.026366508987303583, 'gamma': 0.0002, 'kernel': 'rbf'},\n",
       " mean: 0.76294, std: 0.01007, params: {'C': 0.026366508987303583, 'gamma': 0.0003, 'kernel': 'rbf'},\n",
       " mean: 0.81970, std: 0.02850, params: {'C': 0.026366508987303583, 'gamma': 0.0004, 'kernel': 'rbf'},\n",
       " mean: 0.84530, std: 0.03100, params: {'C': 0.026366508987303583, 'gamma': 0.0005, 'kernel': 'rbf'},\n",
       " mean: 0.85921, std: 0.02345, params: {'C': 0.026366508987303583, 'gamma': 0.0006, 'kernel': 'rbf'},\n",
       " mean: 0.86311, std: 0.01991, params: {'C': 0.026366508987303583, 'gamma': 0.0007, 'kernel': 'rbf'},\n",
       " mean: 0.86700, std: 0.01960, params: {'C': 0.026366508987303583, 'gamma': 0.0008, 'kernel': 'rbf'},\n",
       " mean: 0.86311, std: 0.01991, params: {'C': 0.026366508987303583, 'gamma': 0.0007, 'kernel': 'rbf'},\n",
       " mean: 0.86756, std: 0.02749, params: {'C': 0.026366508987303583, 'gamma': 0.001, 'kernel': 'rbf'},\n",
       " mean: 0.70952, std: 0.01224, params: {'C': 0.04832930238571752, 'gamma': 0.0001, 'kernel': 'rbf'},\n",
       " mean: 0.86533, std: 0.02609, params: {'C': 0.04832930238571752, 'gamma': 0.0002, 'kernel': 'rbf'},\n",
       " mean: 0.89149, std: 0.02701, params: {'C': 0.04832930238571752, 'gamma': 0.0003, 'kernel': 'rbf'},\n",
       " mean: 0.90373, std: 0.02652, params: {'C': 0.04832930238571752, 'gamma': 0.0004, 'kernel': 'rbf'},\n",
       " mean: 0.90985, std: 0.02902, params: {'C': 0.04832930238571752, 'gamma': 0.0005, 'kernel': 'rbf'},\n",
       " mean: 0.91375, std: 0.02501, params: {'C': 0.04832930238571752, 'gamma': 0.0006, 'kernel': 'rbf'},\n",
       " mean: 0.92042, std: 0.02270, params: {'C': 0.04832930238571752, 'gamma': 0.0007, 'kernel': 'rbf'},\n",
       " mean: 0.92098, std: 0.02211, params: {'C': 0.04832930238571752, 'gamma': 0.0008, 'kernel': 'rbf'},\n",
       " mean: 0.92042, std: 0.02270, params: {'C': 0.04832930238571752, 'gamma': 0.0007, 'kernel': 'rbf'},\n",
       " mean: 0.92154, std: 0.02080, params: {'C': 0.04832930238571752, 'gamma': 0.001, 'kernel': 'rbf'},\n",
       " mean: 0.87090, std: 0.02629, params: {'C': 0.08858667904100823, 'gamma': 0.0001, 'kernel': 'rbf'},\n",
       " mean: 0.90651, std: 0.02852, params: {'C': 0.08858667904100823, 'gamma': 0.0002, 'kernel': 'rbf'},\n",
       " mean: 0.91486, std: 0.02957, params: {'C': 0.08858667904100823, 'gamma': 0.0003, 'kernel': 'rbf'},\n",
       " mean: 0.92487, std: 0.02514, params: {'C': 0.08858667904100823, 'gamma': 0.0004, 'kernel': 'rbf'},\n",
       " mean: 0.93155, std: 0.02413, params: {'C': 0.08858667904100823, 'gamma': 0.0005, 'kernel': 'rbf'},\n",
       " mean: 0.93600, std: 0.02351, params: {'C': 0.08858667904100823, 'gamma': 0.0006, 'kernel': 'rbf'},\n",
       " mean: 0.93990, std: 0.02231, params: {'C': 0.08858667904100823, 'gamma': 0.0007, 'kernel': 'rbf'},\n",
       " mean: 0.94046, std: 0.02337, params: {'C': 0.08858667904100823, 'gamma': 0.0008, 'kernel': 'rbf'},\n",
       " mean: 0.93990, std: 0.02231, params: {'C': 0.08858667904100823, 'gamma': 0.0007, 'kernel': 'rbf'},\n",
       " mean: 0.94046, std: 0.02416, params: {'C': 0.08858667904100823, 'gamma': 0.001, 'kernel': 'rbf'},\n",
       " mean: 0.90540, std: 0.02885, params: {'C': 0.1623776739188721, 'gamma': 0.0001, 'kernel': 'rbf'},\n",
       " mean: 0.92487, std: 0.02617, params: {'C': 0.1623776739188721, 'gamma': 0.0002, 'kernel': 'rbf'},\n",
       " mean: 0.93767, std: 0.02623, params: {'C': 0.1623776739188721, 'gamma': 0.0003, 'kernel': 'rbf'},\n",
       " mean: 0.94324, std: 0.02325, params: {'C': 0.1623776739188721, 'gamma': 0.0004, 'kernel': 'rbf'},\n",
       " mean: 0.94658, std: 0.02300, params: {'C': 0.1623776739188721, 'gamma': 0.0005, 'kernel': 'rbf'},\n",
       " mean: 0.94825, std: 0.02298, params: {'C': 0.1623776739188721, 'gamma': 0.0006, 'kernel': 'rbf'},\n",
       " mean: 0.94936, std: 0.02314, params: {'C': 0.1623776739188721, 'gamma': 0.0007, 'kernel': 'rbf'},\n",
       " mean: 0.95214, std: 0.02274, params: {'C': 0.1623776739188721, 'gamma': 0.0008, 'kernel': 'rbf'},\n",
       " mean: 0.94936, std: 0.02314, params: {'C': 0.1623776739188721, 'gamma': 0.0007, 'kernel': 'rbf'},\n",
       " mean: 0.95381, std: 0.02429, params: {'C': 0.1623776739188721, 'gamma': 0.001, 'kernel': 'rbf'},\n",
       " mean: 0.92487, std: 0.02592, params: {'C': 0.2976351441631319, 'gamma': 0.0001, 'kernel': 'rbf'},\n",
       " mean: 0.94157, std: 0.02686, params: {'C': 0.2976351441631319, 'gamma': 0.0002, 'kernel': 'rbf'},\n",
       " mean: 0.95047, std: 0.02266, params: {'C': 0.2976351441631319, 'gamma': 0.0003, 'kernel': 'rbf'},\n",
       " mean: 0.95047, std: 0.02268, params: {'C': 0.2976351441631319, 'gamma': 0.0004, 'kernel': 'rbf'},\n",
       " mean: 0.95326, std: 0.02296, params: {'C': 0.2976351441631319, 'gamma': 0.0005, 'kernel': 'rbf'},\n",
       " mean: 0.95548, std: 0.02166, params: {'C': 0.2976351441631319, 'gamma': 0.0006, 'kernel': 'rbf'},\n",
       " mean: 0.95659, std: 0.02275, params: {'C': 0.2976351441631319, 'gamma': 0.0007, 'kernel': 'rbf'},\n",
       " mean: 0.95659, std: 0.02382, params: {'C': 0.2976351441631319, 'gamma': 0.0008, 'kernel': 'rbf'},\n",
       " mean: 0.95659, std: 0.02275, params: {'C': 0.2976351441631319, 'gamma': 0.0007, 'kernel': 'rbf'},\n",
       " mean: 0.95548, std: 0.02519, params: {'C': 0.2976351441631319, 'gamma': 0.001, 'kernel': 'rbf'},\n",
       " mean: 0.93600, std: 0.02752, params: {'C': 0.5455594781168515, 'gamma': 0.0001, 'kernel': 'rbf'},\n",
       " mean: 0.94936, std: 0.02276, params: {'C': 0.5455594781168515, 'gamma': 0.0002, 'kernel': 'rbf'},\n",
       " mean: 0.95326, std: 0.02269, params: {'C': 0.5455594781168515, 'gamma': 0.0003, 'kernel': 'rbf'},\n",
       " mean: 0.95771, std: 0.01953, params: {'C': 0.5455594781168515, 'gamma': 0.0004, 'kernel': 'rbf'},\n",
       " mean: 0.95771, std: 0.02204, params: {'C': 0.5455594781168515, 'gamma': 0.0005, 'kernel': 'rbf'},\n",
       " mean: 0.95938, std: 0.02131, params: {'C': 0.5455594781168515, 'gamma': 0.0006, 'kernel': 'rbf'},\n",
       " mean: 0.96272, std: 0.02093, params: {'C': 0.5455594781168515, 'gamma': 0.0007, 'kernel': 'rbf'},\n",
       " mean: 0.96216, std: 0.02150, params: {'C': 0.5455594781168515, 'gamma': 0.0008, 'kernel': 'rbf'},\n",
       " mean: 0.96272, std: 0.02093, params: {'C': 0.5455594781168515, 'gamma': 0.0007, 'kernel': 'rbf'},\n",
       " mean: 0.96661, std: 0.01894, params: {'C': 0.5455594781168515, 'gamma': 0.001, 'kernel': 'rbf'},\n",
       " mean: 0.94769, std: 0.02212, params: {'C': 1.0, 'gamma': 0.0001, 'kernel': 'rbf'},\n",
       " mean: 0.95715, std: 0.02346, params: {'C': 1.0, 'gamma': 0.0002, 'kernel': 'rbf'},\n",
       " mean: 0.95882, std: 0.02265, params: {'C': 1.0, 'gamma': 0.0003, 'kernel': 'rbf'},\n",
       " mean: 0.96383, std: 0.01949, params: {'C': 1.0, 'gamma': 0.0004, 'kernel': 'rbf'},\n",
       " mean: 0.96439, std: 0.02087, params: {'C': 1.0, 'gamma': 0.0005, 'kernel': 'rbf'},\n",
       " mean: 0.96717, std: 0.02054, params: {'C': 1.0, 'gamma': 0.0006, 'kernel': 'rbf'},\n",
       " mean: 0.96884, std: 0.01992, params: {'C': 1.0, 'gamma': 0.0007, 'kernel': 'rbf'},\n",
       " mean: 0.97051, std: 0.01802, params: {'C': 1.0, 'gamma': 0.0008, 'kernel': 'rbf'},\n",
       " mean: 0.96884, std: 0.01992, params: {'C': 1.0, 'gamma': 0.0007, 'kernel': 'rbf'},\n",
       " mean: 0.97162, std: 0.01547, params: {'C': 1.0, 'gamma': 0.001, 'kernel': 'rbf'}]"
      ]
     },
     "execution_count": 25,
     "metadata": {},
     "output_type": "execute_result"
    }
   ],
   "source": [
    "clf.grid_scores_"
   ]
  },
  {
   "cell_type": "code",
   "execution_count": 26,
   "metadata": {
    "collapsed": false
   },
   "outputs": [
    {
     "data": {
      "text/plain": [
       "{'C': 1.0, 'gamma': 0.001, 'kernel': 'rbf'}"
      ]
     },
     "execution_count": 26,
     "metadata": {},
     "output_type": "execute_result"
    }
   ],
   "source": [
    "clf.best_params_"
   ]
  },
  {
   "cell_type": "code",
   "execution_count": 27,
   "metadata": {
    "collapsed": false
   },
   "outputs": [
    {
     "data": {
      "text/plain": [
       "SVC(C=1.0, cache_size=200, class_weight=None, coef0=0.0,\n",
       "  decision_function_shape=None, degree=3, gamma=0.001, kernel='rbf',\n",
       "  max_iter=-1, probability=False, random_state=None, shrinking=True,\n",
       "  tol=0.001, verbose=False)"
      ]
     },
     "execution_count": 27,
     "metadata": {},
     "output_type": "execute_result"
    }
   ],
   "source": [
    "clf.best_estimator_"
   ]
  },
  {
   "cell_type": "code",
   "execution_count": 28,
   "metadata": {
    "collapsed": false
   },
   "outputs": [
    {
     "data": {
      "text/plain": [
       "0.97161936560934892"
      ]
     },
     "execution_count": 28,
     "metadata": {},
     "output_type": "execute_result"
    }
   ],
   "source": [
    "clf.best_score_"
   ]
  }
 ],
 "metadata": {
  "kernelspec": {
   "display_name": "Python 3",
   "language": "python",
   "name": "python3"
  },
  "language_info": {
   "codemirror_mode": {
    "name": "ipython",
    "version": 3
   },
   "file_extension": ".py",
   "mimetype": "text/x-python",
   "name": "python",
   "nbconvert_exporter": "python",
   "pygments_lexer": "ipython3",
   "version": "3.5.1"
  }
 },
 "nbformat": 4,
 "nbformat_minor": 0
}
