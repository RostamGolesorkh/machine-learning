{
 "cells": [
  {
   "cell_type": "markdown",
   "metadata": {},
   "source": [
    "# KFold CV calculation on the Iris Dataset"
   ]
  },
  {
   "cell_type": "markdown",
   "metadata": {},
   "source": [
    "There are different type of cross-validation iterators. In followind scikit-learn page, you can find some of them,\n",
    "\n",
    "http://scikit-learn.org/stable/modules/cross_validation.html#cross-validation-iterators\n",
    "\n",
    "In this tutorial, we will work with **KFold** cross validation iterator. First, to learn how to work with KFold cross validation iterator, below, we presented a very simple example."
   ]
  },
  {
   "cell_type": "code",
   "execution_count": 1,
   "metadata": {
    "collapsed": false
   },
   "outputs": [
    {
     "name": "stdout",
     "output_type": "stream",
     "text": [
      "sklearn.cross_validation.KFold(n=8, n_folds=5, shuffle=True, random_state=None)\n",
      "TRAIN: [1 2 3 5 6 7] TEST: [0 4]\n",
      "TRAIN: [0 1 2 4 6 7] TEST: [3 5]\n",
      "TRAIN: [0 1 3 4 5 6] TEST: [2 7]\n",
      "TRAIN: [0 2 3 4 5 6 7] TEST: [1]\n",
      "TRAIN: [0 1 2 3 4 5 7] TEST: [6]\n"
     ]
    }
   ],
   "source": [
    "import numpy as np\n",
    "from sklearn.cross_validation import KFold\n",
    "\n",
    "X = np.array([[0, 1], [2, 3], [4, 5], [6, 7], [8, 9], [0, 2], [4, 6], [8, 1]])\n",
    "y = np.array([11, 12, 13, 14, 15, 16, 17, 18])\n",
    "\n",
    "kf= KFold(8, n_folds = 5, shuffle=True)\n",
    "\n",
    "print(kf)  \n",
    "\n",
    "for train_index, test_index in kf:\n",
    "    print(\"TRAIN:\", train_index, \"TEST:\", test_index)\n",
    "    X_train, X_test = X[train_index], X[test_index]\n",
    "    y_train, y_test = y[train_index], y[test_index]"
   ]
  },
  {
   "cell_type": "markdown",
   "metadata": {},
   "source": [
    "Now, we start the calculation on the iris data sets with **KFold**. First of all, as usual on iris calculation, we read the iris data sets."
   ]
  },
  {
   "cell_type": "code",
   "execution_count": 2,
   "metadata": {
    "collapsed": false
   },
   "outputs": [],
   "source": [
    "from sklearn.svm import SVC\n",
    "from sklearn.datasets import load_iris\n",
    "\n",
    "iris = load_iris()\n",
    "X = iris.data\n",
    "y = iris.target"
   ]
  },
  {
   "cell_type": "markdown",
   "metadata": {},
   "source": [
    "**k** is defined in **n_folds** parameter:"
   ]
  },
  {
   "cell_type": "code",
   "execution_count": 3,
   "metadata": {
    "collapsed": false
   },
   "outputs": [
    {
     "name": "stdout",
     "output_type": "stream",
     "text": [
      "sklearn.cross_validation.KFold(n=150, n_folds=15, shuffle=True, random_state=None)\n"
     ]
    }
   ],
   "source": [
    "kf_iris = KFold(150, n_folds=15, shuffle=True)\n",
    "print(kf_iris)"
   ]
  },
  {
   "cell_type": "code",
   "execution_count": 4,
   "metadata": {
    "collapsed": false
   },
   "outputs": [
    {
     "name": "stdout",
     "output_type": "stream",
     "text": [
      "TEST: [ 23  36  44  61  89  90  92 100 108 120]\n",
      "TEST: [  4  11  19  35  65  74 123 136 143 146]\n",
      "TEST: [ 14  18  32  39  54  56  57  77 121 124]\n",
      "TEST: [ 28  43  48  58  72  76 115 133 147 148]\n",
      "TEST: [  5   9  49  88  91  99 126 129 138 144]\n",
      "TEST: [  1   6  27  42  86  94  95 119 122 130]\n",
      "TEST: [ 12  52  67  93  96 111 113 125 134 142]\n",
      "TEST: [  3  13  15  37  62  70  82 107 127 137]\n",
      "TEST: [  0  10  40  55  79 112 117 118 128 141]\n",
      "TEST: [  2   7  21  24  30  59  66  73  97 105]\n",
      "TEST: [ 22  26  33  38  51  68  71  75 101 140]\n",
      "TEST: [ 60  80  84  87 102 106 109 131 135 139]\n",
      "TEST: [ 17  25  41  45  46  78  83  85  98 114]\n",
      "TEST: [ 16  20  29  47  50  64  69 104 145 149]\n",
      "TEST: [  8  31  34  53  63  81 103 110 116 132]\n"
     ]
    }
   ],
   "source": [
    "for train_index, test_index in kf_iris:\n",
    "    print(\"TEST:\", test_index)"
   ]
  },
  {
   "cell_type": "markdown",
   "metadata": {},
   "source": [
    "As you see above, **KFold** generated 10 different test sets with different features. That means, **KFold** shuffled first the entire data set and then divided them to 10 test sets."
   ]
  },
  {
   "cell_type": "code",
   "execution_count": 5,
   "metadata": {
    "collapsed": false
   },
   "outputs": [
    {
     "name": "stdout",
     "output_type": "stream",
     "text": [
      "Accuracy: 98.67 (+/- 1.84)\n"
     ]
    }
   ],
   "source": [
    "accuracy = []\n",
    "for train_index, test_index in kf_iris:\n",
    "    X_train, X_test = X[train_index], X[test_index]\n",
    "    y_train, y_test = y[train_index], y[test_index]\n",
    "    clf = SVC().fit(X_train, y_train)\n",
    "\n",
    "    i_correct = 0\n",
    "    for i in range(len(X_test)):\n",
    "        if (clf.predict(X_test)[i] == y_test[i]):\n",
    "            i_correct += 1\n",
    "\n",
    "    accuracy.append(i_correct*100/len(y_test))\n",
    "\n",
    "print(\"Accuracy: %0.2f (+/- %0.2f)\" %(np.mean(accuracy), np.sqrt(np.std(accuracy))))"
   ]
  }
 ],
 "metadata": {
  "kernelspec": {
   "display_name": "Python 3",
   "language": "python",
   "name": "python3"
  },
  "language_info": {
   "codemirror_mode": {
    "name": "ipython",
    "version": 3
   },
   "file_extension": ".py",
   "mimetype": "text/x-python",
   "name": "python",
   "nbconvert_exporter": "python",
   "pygments_lexer": "ipython3",
   "version": "3.5.1"
  }
 },
 "nbformat": 4,
 "nbformat_minor": 0
}
