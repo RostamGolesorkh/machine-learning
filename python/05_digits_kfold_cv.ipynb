{
 "cells": [
  {
   "cell_type": "markdown",
   "metadata": {},
   "source": [
    "# KFold CV calculation on the Digits Dataset"
   ]
  },
  {
   "cell_type": "markdown",
   "metadata": {},
   "source": [
    "There are different type of cross-validation iterators. In followind scikit-learn page, you can find some of them,\n",
    "\n",
    "http://scikit-learn.org/stable/modules/cross_validation.html#cross-validation-iterators\n",
    "\n",
    "In this tutorial, we will work with **KFold** cross validation iterator."
   ]
  },
  {
   "cell_type": "code",
   "execution_count": 1,
   "metadata": {
    "collapsed": false
   },
   "outputs": [],
   "source": [
    "from sklearn.datasets import load_digits\n",
    "\n",
    "digits = load_digits()\n",
    "\n",
    "X = digits.data\n",
    "y = digits.target"
   ]
  },
  {
   "cell_type": "code",
   "execution_count": 2,
   "metadata": {
    "collapsed": false
   },
   "outputs": [
    {
     "name": "stdout",
     "output_type": "stream",
     "text": [
      "[0 1 2 ..., 8 9 8]\n"
     ]
    }
   ],
   "source": [
    "print(y)"
   ]
  },
  {
   "cell_type": "code",
   "execution_count": 3,
   "metadata": {
    "collapsed": false
   },
   "outputs": [
    {
     "data": {
      "text/plain": [
       "numpy.ndarray"
      ]
     },
     "execution_count": 3,
     "metadata": {},
     "output_type": "execute_result"
    }
   ],
   "source": [
    "type(X)"
   ]
  },
  {
   "cell_type": "markdown",
   "metadata": {},
   "source": [
    "**k** is defined in **n_folds** parameter:"
   ]
  },
  {
   "cell_type": "code",
   "execution_count": 4,
   "metadata": {
    "collapsed": false
   },
   "outputs": [
    {
     "name": "stdout",
     "output_type": "stream",
     "text": [
      "sklearn.cross_validation.KFold(n=1797, n_folds=5, shuffle=True, random_state=None)\n"
     ]
    }
   ],
   "source": [
    "from sklearn.cross_validation import KFold\n",
    "\n",
    "kf_digits = KFold(1797, n_folds=5, shuffle=True)\n",
    "print(kf_digits)"
   ]
  },
  {
   "cell_type": "code",
   "execution_count": 5,
   "metadata": {
    "collapsed": false
   },
   "outputs": [
    {
     "name": "stdout",
     "output_type": "stream",
     "text": [
      "Len. Test: 360\n",
      "Len. Test: 360\n",
      "Len. Test: 359\n",
      "Len. Test: 359\n",
      "Len. Test: 359\n"
     ]
    }
   ],
   "source": [
    "for train_index, test_index in kf_digits:\n",
    "    print(\"Len. Test:\", len(test_index))"
   ]
  },
  {
   "cell_type": "markdown",
   "metadata": {},
   "source": [
    "As you see above, **KFold** generated **n_folds** different test sets with different features. That means, **KFold** shuffled first the entire data set and then divided them to **n_folds** test sets."
   ]
  },
  {
   "cell_type": "code",
   "execution_count": 6,
   "metadata": {
    "collapsed": false
   },
   "outputs": [
    {
     "name": "stdout",
     "output_type": "stream",
     "text": [
      "SVC(C=1.0, cache_size=200, class_weight=None, coef0=0.0,\n",
      "  decision_function_shape=None, degree=3, gamma='auto', kernel='rbf',\n",
      "  max_iter=-1, probability=False, random_state=None, shrinking=True,\n",
      "  tol=0.001, verbose=False)\n"
     ]
    }
   ],
   "source": [
    "import numpy as np\n",
    "from sklearn.svm import SVC\n",
    "print(SVC())"
   ]
  },
  {
   "cell_type": "code",
   "execution_count": 7,
   "metadata": {
    "collapsed": false
   },
   "outputs": [
    {
     "name": "stdout",
     "output_type": "stream",
     "text": [
      "[44.44444444444444, 40.55555555555556, 49.02506963788301, 63.788300835654596, 56.26740947075209]\n",
      "Accuracy: 50.82 (+/- 2.89)\n"
     ]
    }
   ],
   "source": [
    "accuracy = []\n",
    "for train_index, test_index in kf_digits:\n",
    "    X_train, X_test = X[train_index], X[test_index]\n",
    "    y_train, y_test = y[train_index], y[test_index]\n",
    "    clf = SVC().fit(X_train, y_train)\n",
    "\n",
    "    i_correct = 0\n",
    "    for i in range(len(X_test)):\n",
    "        if (clf.predict(X_test)[i] == y_test[i]):\n",
    "            i_correct += 1\n",
    "\n",
    "    accuracy.append(i_correct*100/len(y_test))\n",
    "\n",
    "print(accuracy)\n",
    "print(\"Accuracy: %0.2f (+/- %0.2f)\" %(np.mean(accuracy), np.sqrt(np.std(accuracy))))"
   ]
  },
  {
   "cell_type": "code",
   "execution_count": 8,
   "metadata": {
    "collapsed": false
   },
   "outputs": [
    {
     "name": "stdout",
     "output_type": "stream",
     "text": [
      "KNeighborsClassifier(algorithm='auto', leaf_size=30, metric='minkowski',\n",
      "           metric_params=None, n_jobs=1, n_neighbors=10, p=2,\n",
      "           weights='uniform')\n"
     ]
    }
   ],
   "source": [
    "from sklearn.neighbors import KNeighborsClassifier\n",
    "knn = KNeighborsClassifier(n_neighbors=10)\n",
    "print(knn)"
   ]
  },
  {
   "cell_type": "code",
   "execution_count": 9,
   "metadata": {
    "collapsed": false
   },
   "outputs": [
    {
     "name": "stdout",
     "output_type": "stream",
     "text": [
      "[97.22222222222223, 98.33333333333333, 98.05013927576601, 98.60724233983287, 98.32869080779945]\n",
      "Accuracy: 98.11 (+/- 0.69)\n"
     ]
    }
   ],
   "source": [
    "accuracy = []\n",
    "for train_index, test_index in kf_digits:\n",
    "    X_train, X_test = X[train_index], X[test_index]\n",
    "    y_train, y_test = y[train_index], y[test_index]\n",
    "    clf = knn.fit(X_train, y_train)\n",
    "\n",
    "    i_correct = 0\n",
    "    for i in range(len(X_test)):\n",
    "        if (clf.predict(X_test)[i] == y_test[i]):\n",
    "            i_correct += 1\n",
    "\n",
    "    accuracy.append(i_correct*100/len(y_test))\n",
    "\n",
    "print(accuracy)\n",
    "print(\"Accuracy: %0.2f (+/- %0.2f)\" %(np.mean(accuracy), np.sqrt(np.std(accuracy))))"
   ]
  },
  {
   "cell_type": "code",
   "execution_count": 10,
   "metadata": {
    "collapsed": false
   },
   "outputs": [
    {
     "name": "stdout",
     "output_type": "stream",
     "text": [
      "DecisionTreeClassifier(class_weight=None, criterion='gini', max_depth=None,\n",
      "            max_features=None, max_leaf_nodes=None, min_samples_leaf=1,\n",
      "            min_samples_split=2, min_weight_fraction_leaf=0.0,\n",
      "            presort=False, random_state=None, splitter='best')\n"
     ]
    }
   ],
   "source": [
    "from sklearn.tree import DecisionTreeClassifier\n",
    "dtc = DecisionTreeClassifier()\n",
    "print(dtc)"
   ]
  },
  {
   "cell_type": "code",
   "execution_count": 11,
   "metadata": {
    "collapsed": false
   },
   "outputs": [
    {
     "name": "stdout",
     "output_type": "stream",
     "text": [
      "[83.33333333333333, 85.83333333333333, 84.67966573816156, 88.85793871866295, 85.79387186629526]\n",
      "Accuracy: 85.70 (+/- 1.35)\n"
     ]
    }
   ],
   "source": [
    "accuracy = []\n",
    "for train_index, test_index in kf_digits:\n",
    "    X_train, X_test = X[train_index], X[test_index]\n",
    "    y_train, y_test = y[train_index], y[test_index]\n",
    "    clf = dtc.fit(X_train, y_train)\n",
    "\n",
    "    i_correct = 0\n",
    "    for i in range(len(X_test)):\n",
    "        if (clf.predict(X_test)[i] == y_test[i]):\n",
    "            i_correct += 1\n",
    "\n",
    "    accuracy.append(i_correct*100/len(y_test))\n",
    "\n",
    "print(accuracy)\n",
    "print(\"Accuracy: %0.2f (+/- %0.2f)\" %(np.mean(accuracy), np.sqrt(np.std(accuracy))))"
   ]
  },
  {
   "cell_type": "code",
   "execution_count": 12,
   "metadata": {
    "collapsed": false
   },
   "outputs": [],
   "source": [
    "from sklearn.naive_bayes import GaussianNB\n",
    "gnb = GaussianNB()"
   ]
  },
  {
   "cell_type": "code",
   "execution_count": 13,
   "metadata": {
    "collapsed": false
   },
   "outputs": [
    {
     "name": "stdout",
     "output_type": "stream",
     "text": [
      "[81.94444444444444, 79.72222222222223, 88.85793871866295, 83.84401114206128, 84.958217270195]\n",
      "Accuracy: 83.87 (+/- 1.75)\n"
     ]
    }
   ],
   "source": [
    "accuracy = []\n",
    "for train_index, test_index in kf_digits:\n",
    "    X_train, X_test = X[train_index], X[test_index]\n",
    "    y_train, y_test = y[train_index], y[test_index]\n",
    "    clf = gnb.fit(X_train, y_train)\n",
    "\n",
    "    i_correct = 0\n",
    "    for i in range(len(X_test)):\n",
    "        if (clf.predict(X_test)[i] == y_test[i]):\n",
    "            i_correct += 1\n",
    "\n",
    "    accuracy.append(i_correct*100/len(y_test))\n",
    "\n",
    "print(accuracy)\n",
    "print(\"Accuracy: %0.2f (+/- %0.2f)\" %(np.mean(accuracy), np.sqrt(np.std(accuracy))))"
   ]
  }
 ],
 "metadata": {
  "kernelspec": {
   "display_name": "Python 3",
   "language": "python",
   "name": "python3"
  },
  "language_info": {
   "codemirror_mode": {
    "name": "ipython",
    "version": 3
   },
   "file_extension": ".py",
   "mimetype": "text/x-python",
   "name": "python",
   "nbconvert_exporter": "python",
   "pygments_lexer": "ipython3",
   "version": "3.5.1"
  }
 },
 "nbformat": 4,
 "nbformat_minor": 0
}
