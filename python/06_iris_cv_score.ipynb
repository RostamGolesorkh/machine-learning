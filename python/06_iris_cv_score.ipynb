{
 "cells": [
  {
   "cell_type": "markdown",
   "metadata": {},
   "source": [
    "# Score, and cross-validated scores"
   ]
  },
  {
   "cell_type": "markdown",
   "metadata": {},
   "source": [
    "In this tutorial, we repead all calculation from previos tiutorial, but we utilize **cross_val_score** helper to calculate score and apply cross-validation iterators.\n",
    "\n",
    "You can find more imformation about cross_val_score from here:\n",
    "\n",
    "http://scikit-learn.org/stable/modules/generated/sklearn.cross_validation.cross_val_score.html"
   ]
  },
  {
   "cell_type": "code",
   "execution_count": 6,
   "metadata": {
    "collapsed": false
   },
   "outputs": [],
   "source": [
    "from sklearn.datasets import load_iris\n",
    "from sklearn.preprocessing import StandardScaler\n",
    "\n",
    "iris = load_iris()\n",
    "\n",
    "X = iris.data\n",
    "X = StandardScaler().fit_transform(X)\n",
    "\n",
    "y = iris.target"
   ]
  },
  {
   "cell_type": "code",
   "execution_count": 7,
   "metadata": {
    "collapsed": false
   },
   "outputs": [],
   "source": [
    "import numpy as np\n",
    "from sklearn.cross_validation import KFold, cross_val_score"
   ]
  },
  {
   "cell_type": "markdown",
   "metadata": {},
   "source": [
    "**k** is defined in **n_folds** parameter:"
   ]
  },
  {
   "cell_type": "code",
   "execution_count": 19,
   "metadata": {
    "collapsed": false
   },
   "outputs": [
    {
     "name": "stdout",
     "output_type": "stream",
     "text": [
      "LinearSVC(C=1.0, class_weight=None, dual=True, fit_intercept=True,\n",
      "     intercept_scaling=1, loss='squared_hinge', max_iter=1000,\n",
      "     multi_class='ovr', penalty='l2', random_state=None, tol=0.0001,\n",
      "     verbose=0)\n",
      "Accuracy: 0.8667 (+/- 0.3453)\n"
     ]
    }
   ],
   "source": [
    "from sklearn.svm import LinearSVC\n",
    "clf = LinearSVC(loss = 'squared_hinge')\n",
    "\n",
    "print(clf)\n",
    "\n",
    "kfold = KFold(len(X), n_folds = 5)\n",
    "scores= cross_val_score(clf, X, y, cv=kfold, n_jobs=-1)\n",
    "print(\"Accuracy: %0.4f (+/- %0.4f)\" %(np.mean(scores), np.sqrt(np.std(scores))))"
   ]
  },
  {
   "cell_type": "code",
   "execution_count": 20,
   "metadata": {
    "collapsed": false
   },
   "outputs": [
    {
     "name": "stdout",
     "output_type": "stream",
     "text": [
      "SVC(C=1.0, cache_size=200, class_weight=None, coef0=0.0,\n",
      "  decision_function_shape=None, degree=3, gamma='auto', kernel='rbf',\n",
      "  max_iter=-1, probability=False, random_state=None, shrinking=True,\n",
      "  tol=0.001, verbose=False)\n",
      "Accuracy: 0.9067 (+/- 0.3007)\n"
     ]
    }
   ],
   "source": [
    "from sklearn.svm import SVC\n",
    "svc = SVC()\n",
    "\n",
    "print(svc)\n",
    "\n",
    "kfold = KFold(len(X), n_folds = 5)\n",
    "scores= cross_val_score(svc, X, y, cv=kfold, n_jobs=-1)\n",
    "print(\"Accuracy: %0.4f (+/- %0.4f)\" %(np.mean(scores), np.sqrt(np.std(scores))))"
   ]
  },
  {
   "cell_type": "code",
   "execution_count": 21,
   "metadata": {
    "collapsed": false
   },
   "outputs": [
    {
     "name": "stdout",
     "output_type": "stream",
     "text": [
      "Accuracy: 0.8600 (+/- 0.3869)\n"
     ]
    }
   ],
   "source": [
    "from sklearn.neighbors import KNeighborsClassifier\n",
    "kNN = KNeighborsClassifier(n_neighbors=10)\n",
    "\n",
    "kfold = KFold(len(X), n_folds = 5)\n",
    "scores= cross_val_score(kNN, X, y, cv=kfold, n_jobs=-1)\n",
    "print(\"Accuracy: %0.4f (+/- %0.4f)\" %(np.mean(scores), np.sqrt(np.std(scores))))"
   ]
  },
  {
   "cell_type": "code",
   "execution_count": 5,
   "metadata": {
    "collapsed": false
   },
   "outputs": [
    {
     "name": "stdout",
     "output_type": "stream",
     "text": [
      "DecisionTreeClassifier(class_weight=None, criterion='gini', max_depth=None,\n",
      "            max_features=None, max_leaf_nodes=None, min_samples_leaf=1,\n",
      "            min_samples_split=2, min_weight_fraction_leaf=0.0,\n",
      "            presort=False, random_state=None, splitter='best')\n",
      "Accuracy: 0.9000 (+/- 0.3071)\n"
     ]
    }
   ],
   "source": [
    "from sklearn.tree import DecisionTreeClassifier\n",
    "dtc = DecisionTreeClassifier()\n",
    "\n",
    "print(dtc)\n",
    "\n",
    "kfold = KFold(len(X), n_folds = 5)\n",
    "scores= cross_val_score(dtc, X, y, cv=kfold, n_jobs=-1)\n",
    "print(\"Accuracy: %0.4f (+/- %0.4f)\" %(np.mean(scores), np.sqrt(np.std(scores))))"
   ]
  },
  {
   "cell_type": "code",
   "execution_count": 6,
   "metadata": {
    "collapsed": false
   },
   "outputs": [
    {
     "name": "stdout",
     "output_type": "stream",
     "text": [
      "GaussianNB()\n",
      "Accuracy: 0.9467 (+/- 0.1844)\n"
     ]
    }
   ],
   "source": [
    "from sklearn.naive_bayes import GaussianNB\n",
    "gnb = GaussianNB()\n",
    "\n",
    "print(gnb)\n",
    "\n",
    "kfold = KFold(len(X), n_folds = 5)\n",
    "scores= cross_val_score(gnb, X, y, cv=kfold, n_jobs=-1)\n",
    "print(\"Accuracy: %0.4f (+/- %0.4f)\" %(np.mean(scores), np.sqrt(np.std(scores))))"
   ]
  }
 ],
 "metadata": {
  "kernelspec": {
   "display_name": "Python 3",
   "language": "python",
   "name": "python3"
  },
  "language_info": {
   "codemirror_mode": {
    "name": "ipython",
    "version": 3
   },
   "file_extension": ".py",
   "mimetype": "text/x-python",
   "name": "python",
   "nbconvert_exporter": "python",
   "pygments_lexer": "ipython3",
   "version": "3.5.1"
  }
 },
 "nbformat": 4,
 "nbformat_minor": 0
}
